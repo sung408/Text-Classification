{
 "cells": [
  {
   "cell_type": "code",
   "execution_count": 49,
   "metadata": {
    "scrolled": false
   },
   "outputs": [],
   "source": [
    "import pandas as pd\n",
    "import numpy as np\n",
    "from keras.wrappers.scikit_learn import KerasClassifier\n",
    "from keras.utils import np_utils\n",
    "from sklearn.model_selection import cross_val_score\n",
    "from sklearn.model_selection import GridSearchCV\n",
    "from sklearn.metrics import classification_report, confusion_matrix\n",
    "\n",
    "from sklearn.model_selection import KFold\n",
    "from sklearn.preprocessing import LabelEncoder\n",
    "from sklearn.pipeline import Pipeline\n",
    "\n",
    "from sklearn.feature_extraction.text import CountVectorizer\n",
    "\n",
    "df=pd.read_csv('C:\\\\temp\\\\2020_July_items_master.csv')\n",
    "\n",
    "Part_Desc='PART_DESC'\n",
    "\n",
    "df['PART NO_DESC']=df[Part_Desc].str.strip()\n",
    "# df['PART NO_DESC']=df[Part_Desc].str.replace('-',\",\", regex=True)\n",
    "# df['PART NO_DESC']=df[Part_Desc].str.upper()\n",
    "\n",
    "df.rename(columns={'Items_': 'items_'},inplace=True)\n"
   ]
  },
  {
   "cell_type": "code",
   "execution_count": 28,
   "metadata": {},
   "outputs": [],
   "source": [
    "from sklearn.model_selection import train_test_split\n",
    "desc=df['PART NO_DESC'].values\n",
    "item=df['items_'].values\n",
    "Xd_train, Xd_test, y_train, y_test= train_test_split(desc, item, test_size=0.3)\n"
   ]
  },
  {
   "cell_type": "code",
   "execution_count": 29,
   "metadata": {},
   "outputs": [
    {
     "data": {
      "text/plain": [
       "<803x1473 sparse matrix of type '<class 'numpy.int64'>'\n",
       "\twith 5406 stored elements in Compressed Sparse Row format>"
      ]
     },
     "execution_count": 29,
     "metadata": {},
     "output_type": "execute_result"
    }
   ],
   "source": [
    "vectorizer=CountVectorizer(min_df=0.0001,   strip_accents='unicode',)\n",
    "X_train=vectorizer.fit_transform(Xd_train)\n",
    "X_test=vectorizer.transform(Xd_test)\n",
    "X_train"
   ]
  },
  {
   "cell_type": "markdown",
   "metadata": {},
   "source": [
    "# Base model"
   ]
  },
  {
   "cell_type": "code",
   "execution_count": 36,
   "metadata": {},
   "outputs": [
    {
     "data": {
      "text/plain": [
       "0.9536231884057971"
      ]
     },
     "execution_count": 36,
     "metadata": {},
     "output_type": "execute_result"
    }
   ],
   "source": [
    "from sklearn.linear_model import LogisticRegression\n",
    "\n",
    "classifier = LogisticRegression()\n",
    "classifier.fit(X_train, y_train)\n",
    "score = classifier.score(X_test, y_test)\n",
    "score"
   ]
  },
  {
   "cell_type": "code",
   "execution_count": 37,
   "metadata": {},
   "outputs": [
    {
     "name": "stderr",
     "output_type": "stream",
     "text": [
      "C:\\Users\\suchung\\AppData\\Local\\Continuum\\anaconda3\\lib\\site-packages\\sklearn\\ensemble\\forest.py:245: FutureWarning: The default value of n_estimators will change from 10 in version 0.20 to 100 in 0.22.\n",
      "  \"10 in version 0.20 to 100 in 0.22.\", FutureWarning)\n"
     ]
    },
    {
     "name": "stdout",
     "output_type": "stream",
     "text": [
      "0.936231884057971\n"
     ]
    }
   ],
   "source": [
    "from sklearn.ensemble import RandomForestClassifier\n",
    "clf = RandomForestClassifier(n_jobs=2, random_state=0)\n",
    "clf.fit(X_train, y_train)\n",
    "score=clf.score(X_test, y_test)\n",
    "print (score)"
   ]
  },
  {
   "cell_type": "code",
   "execution_count": 73,
   "metadata": {},
   "outputs": [
    {
     "name": "stderr",
     "output_type": "stream",
     "text": [
      "C:\\Users\\suchung\\AppData\\Local\\Continuum\\anaconda3\\lib\\site-packages\\sklearn\\model_selection\\_split.py:1978: FutureWarning: The default value of cv will change from 3 to 5 in version 0.22. Specify it explicitly to silence this warning.\n",
      "  warnings.warn(CV_WARNING, FutureWarning)\n",
      "C:\\Users\\suchung\\AppData\\Local\\Continuum\\anaconda3\\lib\\site-packages\\sklearn\\model_selection\\_split.py:657: Warning: The least populated class in y has only 1 members, which is too few. The minimum number of members in any class cannot be less than n_splits=3.\n",
      "  % (min_groups, self.n_splits)), Warning)\n",
      "[Parallel(n_jobs=1)]: Using backend SequentialBackend with 1 concurrent workers.\n"
     ]
    },
    {
     "name": "stdout",
     "output_type": "stream",
     "text": [
      "Fitting 3 folds for each of 50 candidates, totalling 150 fits\n",
      "{'C': 10, 'gamma': 0.1, 'kernel': 'rbf'}\n",
      "                                  precision    recall  f1-score   support\n",
      "\n",
      "                     ACC Emitter       1.00      1.00      1.00         4\n",
      "                Apperture Driver       0.00      0.00      0.00         2\n",
      "                          Column       1.00      1.00      1.00         3\n",
      "                        Computer       0.92      1.00      0.96        22\n",
      "                   Contact Tower       1.00      1.00      1.00         1\n",
      "                             DIC       1.00      1.00      1.00         8\n",
      "                             DWG       1.00      1.00      1.00         8\n",
      "               Deflection Driver       1.00      1.00      1.00         7\n",
      "                         E CHUCK       1.00      1.00      1.00         1\n",
      "         E-CHUCK/GROUNDER DRIVER       1.00      1.00      1.00         6\n",
      "                             Gun       0.71      1.00      0.83         5\n",
      "                      Gun HV Box       1.00      1.00      1.00         4\n",
      "                             HDD       0.00      0.00      0.00         0\n",
      "             Ion Pump Controller       1.00      0.50      0.67         2\n",
      "                  Main Amplifier       1.00      0.67      0.80         3\n",
      "                     Power Suppl       1.00      1.00      1.00         2\n",
      "                   Pre-amplifier       1.00      1.00      1.00         1\n",
      "RENISHAW DI LASER INTERFEROMETER       0.00      0.00      0.00         2\n",
      "            RENISHAW RLE20-DX-XP       0.00      0.00      0.00         1\n",
      "               STIGMATOR/Alignmt       1.00      0.67      0.80         3\n",
      "                    Stage HV Box       1.00      1.00      1.00         9\n",
      "                     Top Seal LL       1.00      1.00      1.00         2\n",
      "           Turbo Pump Controller       0.00      0.00      0.00         1\n",
      "                     Vacc. guage       1.00      1.00      1.00         1\n",
      "                     XY LASER DI       0.00      0.00      0.00         1\n",
      "            Z-Stage Monitor& Ctl       1.00      1.00      1.00         2\n",
      "                           other       0.97      0.98      0.98       244\n",
      "\n",
      "                        accuracy                           0.96       345\n",
      "                       macro avg       0.76      0.73      0.74       345\n",
      "                    weighted avg       0.95      0.96      0.95       345\n",
      "\n",
      "[[  4   0   0   0   0   0   0   0   0   0   0   0   0   0   0   0   0   0\n",
      "    0   0   0   0   0   0   0   0   0]\n",
      " [  0   0   0   0   0   0   0   0   0   0   2   0   0   0   0   0   0   0\n",
      "    0   0   0   0   0   0   0   0   0]\n",
      " [  0   0   3   0   0   0   0   0   0   0   0   0   0   0   0   0   0   0\n",
      "    0   0   0   0   0   0   0   0   0]\n",
      " [  0   0   0  22   0   0   0   0   0   0   0   0   0   0   0   0   0   0\n",
      "    0   0   0   0   0   0   0   0   0]\n",
      " [  0   0   0   0   1   0   0   0   0   0   0   0   0   0   0   0   0   0\n",
      "    0   0   0   0   0   0   0   0   0]\n",
      " [  0   0   0   0   0   8   0   0   0   0   0   0   0   0   0   0   0   0\n",
      "    0   0   0   0   0   0   0   0   0]\n",
      " [  0   0   0   0   0   0   8   0   0   0   0   0   0   0   0   0   0   0\n",
      "    0   0   0   0   0   0   0   0   0]\n",
      " [  0   0   0   0   0   0   0   7   0   0   0   0   0   0   0   0   0   0\n",
      "    0   0   0   0   0   0   0   0   0]\n",
      " [  0   0   0   0   0   0   0   0   1   0   0   0   0   0   0   0   0   0\n",
      "    0   0   0   0   0   0   0   0   0]\n",
      " [  0   0   0   0   0   0   0   0   0   6   0   0   0   0   0   0   0   0\n",
      "    0   0   0   0   0   0   0   0   0]\n",
      " [  0   0   0   0   0   0   0   0   0   0   5   0   0   0   0   0   0   0\n",
      "    0   0   0   0   0   0   0   0   0]\n",
      " [  0   0   0   0   0   0   0   0   0   0   0   4   0   0   0   0   0   0\n",
      "    0   0   0   0   0   0   0   0   0]\n",
      " [  0   0   0   0   0   0   0   0   0   0   0   0   0   0   0   0   0   0\n",
      "    0   0   0   0   0   0   0   0   0]\n",
      " [  0   0   0   0   0   0   0   0   0   0   0   0   0   1   0   0   0   0\n",
      "    0   0   0   0   0   0   0   0   1]\n",
      " [  0   0   0   0   0   0   0   0   0   0   0   0   0   0   2   0   0   0\n",
      "    0   0   0   0   0   0   0   0   1]\n",
      " [  0   0   0   0   0   0   0   0   0   0   0   0   0   0   0   2   0   0\n",
      "    0   0   0   0   0   0   0   0   0]\n",
      " [  0   0   0   0   0   0   0   0   0   0   0   0   0   0   0   0   1   0\n",
      "    0   0   0   0   0   0   0   0   0]\n",
      " [  0   0   0   0   0   0   0   0   0   0   0   0   0   0   0   0   0   0\n",
      "    0   0   0   0   0   0   0   0   2]\n",
      " [  0   0   0   0   0   0   0   0   0   0   0   0   0   0   0   0   0   0\n",
      "    0   0   0   0   0   0   0   0   1]\n",
      " [  0   0   0   0   0   0   0   0   0   0   0   0   0   0   0   0   0   0\n",
      "    0   2   0   0   0   0   0   0   1]\n",
      " [  0   0   0   0   0   0   0   0   0   0   0   0   0   0   0   0   0   0\n",
      "    0   0   9   0   0   0   0   0   0]\n",
      " [  0   0   0   0   0   0   0   0   0   0   0   0   0   0   0   0   0   0\n",
      "    0   0   0   2   0   0   0   0   0]\n",
      " [  0   0   0   0   0   0   0   0   0   0   0   0   0   0   0   0   0   0\n",
      "    0   0   0   0   0   0   0   0   1]\n",
      " [  0   0   0   0   0   0   0   0   0   0   0   0   0   0   0   0   0   0\n",
      "    0   0   0   0   0   1   0   0   0]\n",
      " [  0   0   0   0   0   0   0   0   0   0   0   0   0   0   0   0   0   0\n",
      "    0   0   0   0   0   0   0   0   1]\n",
      " [  0   0   0   0   0   0   0   0   0   0   0   0   0   0   0   0   0   0\n",
      "    0   0   0   0   0   0   0   2   0]\n",
      " [  0   0   0   2   0   0   0   0   0   0   0   0   2   0   0   0   0   0\n",
      "    0   0   0   0   0   0   0   0 240]]\n"
     ]
    },
    {
     "name": "stderr",
     "output_type": "stream",
     "text": [
      "[Parallel(n_jobs=1)]: Done 150 out of 150 | elapsed:   12.4s finished\n",
      "C:\\Users\\suchung\\AppData\\Local\\Continuum\\anaconda3\\lib\\site-packages\\sklearn\\model_selection\\_search.py:813: DeprecationWarning: The default of the `iid` parameter will change from True to False in version 0.22 and will be removed in 0.24. This will change numeric results when test-set sizes are unequal.\n",
      "  DeprecationWarning)\n",
      "C:\\Users\\suchung\\AppData\\Local\\Continuum\\anaconda3\\lib\\site-packages\\sklearn\\metrics\\classification.py:1437: UndefinedMetricWarning: Precision and F-score are ill-defined and being set to 0.0 in labels with no predicted samples.\n",
      "  'precision', 'predicted', average, warn_for)\n",
      "C:\\Users\\suchung\\AppData\\Local\\Continuum\\anaconda3\\lib\\site-packages\\sklearn\\metrics\\classification.py:1439: UndefinedMetricWarning: Recall and F-score are ill-defined and being set to 0.0 in labels with no true samples.\n",
      "  'recall', 'true', average, warn_for)\n"
     ]
    }
   ],
   "source": [
    "from sklearn.svm import SVC\n",
    "# this_C=1\n",
    "# this_gamma=0.01\n",
    "param_grid = {'C': [0.1, 1, 10, 100, 1000], \n",
    "              'gamma': [1, 0.1, 0.01, 0.001, 0.0001],\n",
    "              'kernel': ['rbf','linear']}\n",
    "svc=SVC()\n",
    "clf2=GridSearchCV(svc,param_grid, refit=True, verbose=1)\n",
    "clf2.fit(X_train, y_train)\n",
    "\n",
    "\n",
    "print (grid.best_params_)\n",
    "# print(grid.best_estimator_)\n",
    "\n",
    "grid_predictions = clf2.predict(X_test)\n",
    "# print classification report\n",
    "print(classification_report(y_test, grid_predictions))\n",
    "      \n",
    "\n",
    "# clf2=SVC(kernel='linear',C=this_C, gamma=this_gamma).fit(X_train, y_train)\n",
    "# score=clf2.score(X_test, y_test)\n",
    "\n",
    "# print (score)\n",
    "\n",
    "# # print (y_test)\n",
    "predict=clf2.predict(X_test)\n",
    "\n",
    "t_result=pd.DataFrame({'y_test':y_test, 'predict':predict})\n",
    "t_result.to_csv('c:\\\\temp\\\\t_result2.csv')"
   ]
  },
  {
   "cell_type": "markdown",
   "metadata": {},
   "source": [
    "# from sklearn.tree import DecisionTreeClassifier\n",
    "import pydotplus\n",
    "clf=DecisionTreeClassifier()\n",
    "clf.fit(X_train, y_train)\n",
    "score=clf.score(X_test, y_test)\n",
    "print (score)\n"
   ]
  },
  {
   "cell_type": "markdown",
   "metadata": {},
   "source": [
    "# predict all data to trace back the in accuracy"
   ]
  },
  {
   "cell_type": "code",
   "execution_count": 7,
   "metadata": {},
   "outputs": [
    {
     "name": "stdout",
     "output_type": "stream",
     "text": [
      "0.9843205574912892\n"
     ]
    }
   ],
   "source": [
    "Xd_all=desc\n",
    "y_all=item\n",
    "X_all=vectorizer.transform(Xd_all)\n",
    "score=clf2.score(X_all, y_all)\n",
    "print (score)\n",
    "predict=clf2.predict(X_all)\n",
    "df['predict']=predict\n",
    "df.to_csv('c:\\\\temp\\\\all_result.csv')\n"
   ]
  },
  {
   "cell_type": "markdown",
   "metadata": {},
   "source": [
    "## Apply to New Dataset"
   ]
  },
  {
   "cell_type": "code",
   "execution_count": 10,
   "metadata": {},
   "outputs": [
    {
     "name": "stdout",
     "output_type": "stream",
     "text": [
      "Index(['Source Table', 'MACHINE_REGION', 'REF_NO', 'CUSTOMER', 'MACHINE_NO',\n",
      "       'PARTS_REQUEST_REASON_CODE', 'APPLY_DATE', 'NEED_BY', 'SO_NO',\n",
      "       'SO_LINE', 'PART_NO', 'PART_DESC', 'NEED_TO_BE_RETURNED', 'SHIPPED_QTY',\n",
      "       'SHIPPING_ORG', 'SUBINVENTORY', 'DELIVERY_NUM', 'ACTUAL_SHIPPED_DATE',\n",
      "       'APPROVED_DATE_2NDLINE', 'PRIORITY', 'FILLER', 'APPLICANT',\n",
      "       'PARTS_REQUEST_STATUS', 'INV_AVAILABLE_DATE', 'INSTALLED_DATE',\n",
      "       'NON_INSTALLED_REASON', 'NON_INSTALLED_RETURN', 'NON_INSTALL_DAYS',\n",
      "       'INSTALLATION_STATUS', 'RMA_NO', 'RETURN_DATE', 'FORM_STATUS',\n",
      "       'RETURNED_QTY', 'HMI_SN', 'Items_'],\n",
      "      dtype='object')\n"
     ]
    },
    {
     "data": {
      "text/plain": [
       "292"
      ]
     },
     "execution_count": 10,
     "metadata": {},
     "output_type": "execute_result"
    }
   ],
   "source": [
    "dft=pd.read_csv('c:\\\\temp\\\\blah-testq4.csv')\n",
    "dft\n",
    "\n",
    "print (dft.columns)\n",
    "len(dft['PART_DESC'])\n",
    "\n",
    "###########**** make sure no empty end-row  *****########## "
   ]
  },
  {
   "cell_type": "code",
   "execution_count": 9,
   "metadata": {},
   "outputs": [
    {
     "ename": "NameError",
     "evalue": "name 'dft' is not defined",
     "output_type": "error",
     "traceback": [
      "\u001b[1;31m---------------------------------------------------------------------------\u001b[0m",
      "\u001b[1;31mNameError\u001b[0m                                 Traceback (most recent call last)",
      "\u001b[1;32m<ipython-input-9-dab9ef35c305>\u001b[0m in \u001b[0;36m<module>\u001b[1;34m\u001b[0m\n\u001b[0;32m      1\u001b[0m \u001b[0mPart_Desc\u001b[0m\u001b[1;33m=\u001b[0m\u001b[1;34m'PART_DESC'\u001b[0m\u001b[1;33m\u001b[0m\u001b[1;33m\u001b[0m\u001b[0m\n\u001b[1;32m----> 2\u001b[1;33m \u001b[0mdft\u001b[0m\u001b[1;33m[\u001b[0m\u001b[1;34m'PART NO_DESC'\u001b[0m\u001b[1;33m]\u001b[0m\u001b[1;33m=\u001b[0m\u001b[0mdft\u001b[0m\u001b[1;33m[\u001b[0m\u001b[0mPart_Desc\u001b[0m\u001b[1;33m]\u001b[0m\u001b[1;33m.\u001b[0m\u001b[0mstr\u001b[0m\u001b[1;33m.\u001b[0m\u001b[0mstrip\u001b[0m\u001b[1;33m(\u001b[0m\u001b[1;33m)\u001b[0m\u001b[1;33m\u001b[0m\u001b[1;33m\u001b[0m\u001b[0m\n\u001b[0m\u001b[0;32m      3\u001b[0m \u001b[0mdft\u001b[0m\u001b[1;33m[\u001b[0m\u001b[1;34m'PART NO_DESC'\u001b[0m\u001b[1;33m]\u001b[0m\u001b[1;33m=\u001b[0m\u001b[0mdft\u001b[0m\u001b[1;33m[\u001b[0m\u001b[0mPart_Desc\u001b[0m\u001b[1;33m]\u001b[0m\u001b[1;33m.\u001b[0m\u001b[0mstr\u001b[0m\u001b[1;33m.\u001b[0m\u001b[0mreplace\u001b[0m\u001b[1;33m(\u001b[0m\u001b[1;34m'-'\u001b[0m\u001b[1;33m,\u001b[0m\u001b[1;34m\",\"\u001b[0m\u001b[1;33m,\u001b[0m \u001b[0mregex\u001b[0m\u001b[1;33m=\u001b[0m\u001b[1;32mTrue\u001b[0m\u001b[1;33m)\u001b[0m\u001b[1;33m\u001b[0m\u001b[1;33m\u001b[0m\u001b[0m\n\u001b[0;32m      4\u001b[0m \u001b[0mdft\u001b[0m\u001b[1;33m[\u001b[0m\u001b[1;34m'PART NO_DESC'\u001b[0m\u001b[1;33m]\u001b[0m\u001b[1;33m=\u001b[0m\u001b[0mdft\u001b[0m\u001b[1;33m[\u001b[0m\u001b[0mPart_Desc\u001b[0m\u001b[1;33m]\u001b[0m\u001b[1;33m.\u001b[0m\u001b[0mstr\u001b[0m\u001b[1;33m.\u001b[0m\u001b[0mupper\u001b[0m\u001b[1;33m(\u001b[0m\u001b[1;33m)\u001b[0m\u001b[1;33m\u001b[0m\u001b[1;33m\u001b[0m\u001b[0m\n\u001b[0;32m      5\u001b[0m \u001b[1;33m\u001b[0m\u001b[0m\n",
      "\u001b[1;31mNameError\u001b[0m: name 'dft' is not defined"
     ]
    }
   ],
   "source": [
    "Part_Desc='PART_DESC'\n",
    "dft['PART NO_DESC']=dft[Part_Desc].str.strip()\n",
    "dft['PART NO_DESC']=dft[Part_Desc].str.replace('-',\",\", regex=True)\n",
    "dft['PART NO_DESC']=dft[Part_Desc].str.upper()\n",
    "\n",
    "\n",
    "desc2=dft['PART NO_DESC'].values\n",
    "\n",
    "X_N=vectorizer.transform(desc2)\n",
    "predict2=clf2.predict(X_N)\n",
    "predict2\n",
    "dft['predict2']=predict2\n",
    "dft.to_csv('c:\\\\temp\\\\predict.csv')\n"
   ]
  },
  {
   "cell_type": "code",
   "execution_count": null,
   "metadata": {},
   "outputs": [],
   "source": []
  },
  {
   "cell_type": "code",
   "execution_count": null,
   "metadata": {},
   "outputs": [],
   "source": []
  },
  {
   "cell_type": "code",
   "execution_count": null,
   "metadata": {},
   "outputs": [],
   "source": []
  },
  {
   "cell_type": "code",
   "execution_count": null,
   "metadata": {},
   "outputs": [],
   "source": []
  },
  {
   "cell_type": "code",
   "execution_count": null,
   "metadata": {},
   "outputs": [],
   "source": []
  },
  {
   "cell_type": "code",
   "execution_count": null,
   "metadata": {},
   "outputs": [],
   "source": [
    "\n",
    "\n",
    "\n",
    "\n"
   ]
  }
 ],
 "metadata": {
  "kernelspec": {
   "display_name": "Python 3",
   "language": "python",
   "name": "python3"
  },
  "language_info": {
   "codemirror_mode": {
    "name": "ipython",
    "version": 3
   },
   "file_extension": ".py",
   "mimetype": "text/x-python",
   "name": "python",
   "nbconvert_exporter": "python",
   "pygments_lexer": "ipython3",
   "version": "3.7.3"
  }
 },
 "nbformat": 4,
 "nbformat_minor": 2
}
