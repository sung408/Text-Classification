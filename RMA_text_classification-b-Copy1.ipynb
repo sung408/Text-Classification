{
 "cells": [
  {
   "cell_type": "code",
   "execution_count": 2,
   "metadata": {
    "scrolled": false
   },
   "outputs": [
    {
     "data": {
      "text/html": [
       "<div>\n",
       "<style scoped>\n",
       "    .dataframe tbody tr th:only-of-type {\n",
       "        vertical-align: middle;\n",
       "    }\n",
       "\n",
       "    .dataframe tbody tr th {\n",
       "        vertical-align: top;\n",
       "    }\n",
       "\n",
       "    .dataframe thead th {\n",
       "        text-align: right;\n",
       "    }\n",
       "</style>\n",
       "<table border=\"1\" class=\"dataframe\">\n",
       "  <thead>\n",
       "    <tr style=\"text-align: right;\">\n",
       "      <th></th>\n",
       "      <th>PART_NO</th>\n",
       "      <th>PART_DESC</th>\n",
       "      <th>items_</th>\n",
       "      <th>PART_NO 12NC</th>\n",
       "      <th>PART NO_DESC</th>\n",
       "    </tr>\n",
       "  </thead>\n",
       "  <tbody>\n",
       "    <tr>\n",
       "      <th>count</th>\n",
       "      <td>1148</td>\n",
       "      <td>1148</td>\n",
       "      <td>1148</td>\n",
       "      <td>1148</td>\n",
       "      <td>1148</td>\n",
       "    </tr>\n",
       "    <tr>\n",
       "      <th>unique</th>\n",
       "      <td>1123</td>\n",
       "      <td>1011</td>\n",
       "      <td>44</td>\n",
       "      <td>985</td>\n",
       "      <td>1001</td>\n",
       "    </tr>\n",
       "    <tr>\n",
       "      <th>top</th>\n",
       "      <td>77-141-0000040-00</td>\n",
       "      <td>Assy. Wafer E-Chuck/Grounder Driver</td>\n",
       "      <td>other</td>\n",
       "      <td>77-604-04004A0</td>\n",
       "      <td>ASSY. WAFER E-CHUCK/GROUNDER DRIVER</td>\n",
       "    </tr>\n",
       "    <tr>\n",
       "      <th>freq</th>\n",
       "      <td>3</td>\n",
       "      <td>8</td>\n",
       "      <td>820</td>\n",
       "      <td>5</td>\n",
       "      <td>8</td>\n",
       "    </tr>\n",
       "  </tbody>\n",
       "</table>\n",
       "</div>"
      ],
      "text/plain": [
       "                  PART_NO                            PART_DESC items_  \\\n",
       "count                1148                                 1148   1148   \n",
       "unique               1123                                 1011     44   \n",
       "top     77-141-0000040-00  Assy. Wafer E-Chuck/Grounder Driver  other   \n",
       "freq                    3                                    8    820   \n",
       "\n",
       "          PART_NO 12NC                         PART NO_DESC  \n",
       "count             1148                                 1148  \n",
       "unique             985                                 1001  \n",
       "top     77-604-04004A0  ASSY. WAFER E-CHUCK/GROUNDER DRIVER  \n",
       "freq                 5                                    8  "
      ]
     },
     "execution_count": 2,
     "metadata": {},
     "output_type": "execute_result"
    }
   ],
   "source": [
    "import pandas as pd\n",
    "import numpy as np\n",
    "from keras.wrappers.scikit_learn import KerasClassifier\n",
    "from keras.utils import np_utils\n",
    "from sklearn.model_selection import cross_val_score\n",
    "\n",
    "from sklearn.model_selection import KFold\n",
    "from sklearn.preprocessing import LabelEncoder\n",
    "from sklearn.pipeline import Pipeline\n",
    "\n",
    "from sklearn.feature_extraction.text import CountVectorizer\n",
    "\n",
    "# df=pd.read_csv('C:\\\\temp\\\\2020_Jan_items_master.csv')\n",
    "df=pd.read_csv('C:\\\\temp\\\\2020_July_items_master.csv')\n",
    "\n",
    "Part_Desc='PART_DESC'\n",
    "\n",
    "df['PART NO_DESC']=df[Part_Desc].str.strip()\n",
    "df['PART NO_DESC']=df[Part_Desc].str.replace('-',\",\", regex=True)\n",
    "df['PART NO_DESC']=df[Part_Desc].str.upper()\n",
    "\n",
    "df.rename(columns={'Items_': 'items_'},inplace=True)\n",
    "df.head()\n",
    "df.describe()\n"
   ]
  },
  {
   "cell_type": "code",
   "execution_count": 3,
   "metadata": {},
   "outputs": [],
   "source": [
    "from sklearn.model_selection import train_test_split\n",
    "desc=df['PART NO_DESC'].values\n",
    "item=df['items_'].values\n",
    "Xd_train, Xd_test, y_train, y_test= train_test_split(desc, item, test_size=0.3)\n"
   ]
  },
  {
   "cell_type": "code",
   "execution_count": 4,
   "metadata": {},
   "outputs": [
    {
     "data": {
      "text/plain": [
       "<803x1423 sparse matrix of type '<class 'numpy.int64'>'\n",
       "\twith 5373 stored elements in Compressed Sparse Row format>"
      ]
     },
     "execution_count": 4,
     "metadata": {},
     "output_type": "execute_result"
    }
   ],
   "source": [
    "vectorizer=CountVectorizer(min_df=0.0001,   strip_accents='unicode',)\n",
    "X_train=vectorizer.fit_transform(Xd_train)\n",
    "X_test=vectorizer.transform(Xd_test)\n",
    "X_train"
   ]
  },
  {
   "cell_type": "markdown",
   "metadata": {},
   "source": [
    "# Base model"
   ]
  },
  {
   "cell_type": "code",
   "execution_count": 5,
   "metadata": {},
   "outputs": [
    {
     "name": "stderr",
     "output_type": "stream",
     "text": [
      "C:\\Users\\suchung\\AppData\\Local\\Continuum\\anaconda3\\lib\\site-packages\\sklearn\\linear_model\\logistic.py:432: FutureWarning: Default solver will be changed to 'lbfgs' in 0.22. Specify a solver to silence this warning.\n",
      "  FutureWarning)\n",
      "C:\\Users\\suchung\\AppData\\Local\\Continuum\\anaconda3\\lib\\site-packages\\sklearn\\linear_model\\logistic.py:469: FutureWarning: Default multi_class will be changed to 'auto' in 0.22. Specify the multi_class option to silence this warning.\n",
      "  \"this warning.\", FutureWarning)\n"
     ]
    },
    {
     "data": {
      "text/plain": [
       "0.9130434782608695"
      ]
     },
     "execution_count": 5,
     "metadata": {},
     "output_type": "execute_result"
    }
   ],
   "source": [
    "from sklearn.linear_model import LogisticRegression\n",
    "\n",
    "classifier = LogisticRegression()\n",
    "classifier.fit(X_train, y_train)\n",
    "score = classifier.score(X_test, y_test)\n",
    "score"
   ]
  },
  {
   "cell_type": "code",
   "execution_count": 6,
   "metadata": {},
   "outputs": [
    {
     "name": "stderr",
     "output_type": "stream",
     "text": [
      "C:\\Users\\suchung\\AppData\\Local\\Continuum\\anaconda3\\lib\\site-packages\\sklearn\\ensemble\\forest.py:245: FutureWarning: The default value of n_estimators will change from 10 in version 0.20 to 100 in 0.22.\n",
      "  \"10 in version 0.20 to 100 in 0.22.\", FutureWarning)\n"
     ]
    },
    {
     "name": "stdout",
     "output_type": "stream",
     "text": [
      "0.9478260869565217\n"
     ]
    }
   ],
   "source": [
    "from sklearn.ensemble import RandomForestClassifier\n",
    "clf = RandomForestClassifier(n_jobs=2, random_state=0)\n",
    "clf.fit(X_train, y_train)\n",
    "score=clf.score(X_test, y_test)\n",
    "print (score)"
   ]
  },
  {
   "cell_type": "code",
   "execution_count": 7,
   "metadata": {},
   "outputs": [
    {
     "name": "stdout",
     "output_type": "stream",
     "text": [
      "0.9420289855072463\n"
     ]
    }
   ],
   "source": [
    "from sklearn.svm import SVC\n",
    "this_C=1\n",
    "this_gamma=0.01\n",
    "clf2=SVC(kernel='linear',C=this_C, gamma=this_gamma).fit(X_train, y_train)\n",
    "score=clf2.score(X_test, y_test)\n",
    "\n",
    "print (score)\n",
    "\n",
    "# print (y_test)\n",
    "predict=clf2.predict(X_test)\n",
    "\n",
    "t_result=pd.DataFrame({'y_test':y_test, 'predict':predict})\n",
    "t_result.to_csv('c:\\\\temp\\\\t_result2.csv')"
   ]
  },
  {
   "cell_type": "markdown",
   "metadata": {},
   "source": [
    "# from sklearn.tree import DecisionTreeClassifier\n",
    "import pydotplus\n",
    "clf=DecisionTreeClassifier()\n",
    "clf.fit(X_train, y_train)\n",
    "score=clf.score(X_test, y_test)\n",
    "print (score)\n"
   ]
  },
  {
   "cell_type": "markdown",
   "metadata": {},
   "source": [
    "# predict all data to trace back the in accuracy"
   ]
  },
  {
   "cell_type": "code",
   "execution_count": 8,
   "metadata": {},
   "outputs": [
    {
     "name": "stdout",
     "output_type": "stream",
     "text": [
      "0.9782229965156795\n"
     ]
    }
   ],
   "source": [
    "Xd_all=desc\n",
    "y_all=item\n",
    "X_all=vectorizer.transform(Xd_all)\n",
    "score=clf2.score(X_all, y_all)\n",
    "print (score)\n",
    "predict=clf2.predict(X_all)\n",
    "df['predict']=predict\n",
    "df.to_csv('c:\\\\temp\\\\all_result.csv')\n"
   ]
  },
  {
   "cell_type": "markdown",
   "metadata": {},
   "source": [
    "## Apply to New Dataset"
   ]
  },
  {
   "cell_type": "code",
   "execution_count": 11,
   "metadata": {},
   "outputs": [],
   "source": [
    "dft=pd.read_csv('c:\\\\temp\\\\blah-test1.csv')\n",
    "dft\n",
    "\n",
    "print (dft.columns)\n",
    "len(dft['PART_DESC'])\n",
    "\n",
    "###########**** make sure no empty end-row  *****########## "
   ]
  },
  {
   "cell_type": "code",
   "execution_count": null,
   "metadata": {},
   "outputs": [],
   "source": [
    "Part_Desc='PART_DESC'\n",
    "dft['PART NO_DESC']=dft[Part_Desc].str.strip()\n",
    "dft['PART NO_DESC']=dft[Part_Desc].str.replace('-',\",\", regex=True)\n",
    "dft['PART NO_DESC']=dft[Part_Desc].str.upper()\n",
    "\n",
    "\n",
    "desc2=dft['PART NO_DESC'].values\n",
    "\n",
    "X_N=vectorizer.transform(desc2)\n",
    "predict2=clf2.predict(X_N)\n",
    "predict2\n",
    "dft['predict2']=predict2\n",
    "dft.to_csv('c:\\\\temp\\\\predict.csv')\n"
   ]
  },
  {
   "cell_type": "code",
   "execution_count": null,
   "metadata": {},
   "outputs": [],
   "source": []
  },
  {
   "cell_type": "code",
   "execution_count": null,
   "metadata": {},
   "outputs": [],
   "source": []
  },
  {
   "cell_type": "code",
   "execution_count": null,
   "metadata": {},
   "outputs": [],
   "source": []
  },
  {
   "cell_type": "code",
   "execution_count": null,
   "metadata": {},
   "outputs": [],
   "source": []
  },
  {
   "cell_type": "code",
   "execution_count": null,
   "metadata": {},
   "outputs": [],
   "source": []
  },
  {
   "cell_type": "code",
   "execution_count": null,
   "metadata": {},
   "outputs": [],
   "source": [
    "\n",
    "\n",
    "\n",
    "\n"
   ]
  }
 ],
 "metadata": {
  "kernelspec": {
   "display_name": "Python 3",
   "language": "python",
   "name": "python3"
  },
  "language_info": {
   "codemirror_mode": {
    "name": "ipython",
    "version": 3
   },
   "file_extension": ".py",
   "mimetype": "text/x-python",
   "name": "python",
   "nbconvert_exporter": "python",
   "pygments_lexer": "ipython3",
   "version": "3.7.3"
  }
 },
 "nbformat": 4,
 "nbformat_minor": 2
}
