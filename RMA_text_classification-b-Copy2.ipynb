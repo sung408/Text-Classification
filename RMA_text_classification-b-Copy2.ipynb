{
 "cells": [
  {
   "cell_type": "code",
   "execution_count": 14,
   "metadata": {
    "scrolled": false
   },
   "outputs": [
    {
     "data": {
      "text/html": [
       "<div>\n",
       "<style scoped>\n",
       "    .dataframe tbody tr th:only-of-type {\n",
       "        vertical-align: middle;\n",
       "    }\n",
       "\n",
       "    .dataframe tbody tr th {\n",
       "        vertical-align: top;\n",
       "    }\n",
       "\n",
       "    .dataframe thead th {\n",
       "        text-align: right;\n",
       "    }\n",
       "</style>\n",
       "<table border=\"1\" class=\"dataframe\">\n",
       "  <thead>\n",
       "    <tr style=\"text-align: right;\">\n",
       "      <th></th>\n",
       "      <th>PART_NO</th>\n",
       "      <th>PART_DESC</th>\n",
       "      <th>items_</th>\n",
       "      <th>PART_NO 12NC</th>\n",
       "      <th>PART NO_DESC</th>\n",
       "    </tr>\n",
       "  </thead>\n",
       "  <tbody>\n",
       "    <tr>\n",
       "      <th>616</th>\n",
       "      <td>77-606-0211401-02</td>\n",
       "      <td>Assy. ACC Emitter High Numerical Aperture High...</td>\n",
       "      <td>ACC Emitter</td>\n",
       "      <td>77-606-0211401</td>\n",
       "      <td>ASSY. ACC EMITTER HIGH NUMERICAL APERTURE HIGH...</td>\n",
       "    </tr>\n",
       "    <tr>\n",
       "      <th>617</th>\n",
       "      <td>77-606-0211401-03</td>\n",
       "      <td>Assy. ACC Emitter High Numerical Aperture High...</td>\n",
       "      <td>ACC Emitter</td>\n",
       "      <td>77-606-0211401</td>\n",
       "      <td>ASSY. ACC EMITTER HIGH NUMERICAL APERTURE HIGH...</td>\n",
       "    </tr>\n",
       "    <tr>\n",
       "      <th>618</th>\n",
       "      <td>77-606-0211404-00</td>\n",
       "      <td>Assy. ACC Emitter High Numerical Aperture High...</td>\n",
       "      <td>ACC Emitter</td>\n",
       "      <td>77-606-0211404</td>\n",
       "      <td>ASSY. ACC EMITTER HIGH NUMERICAL APERTURE HIGH...</td>\n",
       "    </tr>\n",
       "    <tr>\n",
       "      <th>619</th>\n",
       "      <td>77-606-0211404-02</td>\n",
       "      <td>Assy. ACC Emitter High Numerical Aperture High...</td>\n",
       "      <td>ACC Emitter</td>\n",
       "      <td>77-606-0211404</td>\n",
       "      <td>ASSY. ACC EMITTER HIGH NUMERICAL APERTURE HIGH...</td>\n",
       "    </tr>\n",
       "    <tr>\n",
       "      <th>620</th>\n",
       "      <td>77-606-0211405-00</td>\n",
       "      <td>Assy. ACC Emitter, w/ Power Level 4</td>\n",
       "      <td>ACC Emitter</td>\n",
       "      <td>77-606-0211405</td>\n",
       "      <td>ASSY. ACC EMITTER, W/ POWER LEVEL 4</td>\n",
       "    </tr>\n",
       "    <tr>\n",
       "      <th>...</th>\n",
       "      <td>...</td>\n",
       "      <td>...</td>\n",
       "      <td>...</td>\n",
       "      <td>...</td>\n",
       "      <td>...</td>\n",
       "    </tr>\n",
       "    <tr>\n",
       "      <th>300</th>\n",
       "      <td>77-594-X162561-00</td>\n",
       "      <td>Krytox 16256 vacuum oil</td>\n",
       "      <td>other</td>\n",
       "      <td>77-594-X162561</td>\n",
       "      <td>KRYTOX 16256 VACUUM OIL</td>\n",
       "    </tr>\n",
       "    <tr>\n",
       "      <th>301</th>\n",
       "      <td>77-601-0200607-00</td>\n",
       "      <td>eScan500 to eScan600 Upgrade Package</td>\n",
       "      <td>other</td>\n",
       "      <td>77-601-0200607</td>\n",
       "      <td>ESCAN500 TO ESCAN600 UPGRADE PACKAGE</td>\n",
       "    </tr>\n",
       "    <tr>\n",
       "      <th>303</th>\n",
       "      <td>77-601-1701301-02</td>\n",
       "      <td>Assy. Power Conditioner including PDS</td>\n",
       "      <td>other</td>\n",
       "      <td>77-601-1701301</td>\n",
       "      <td>ASSY. POWER CONDITIONER INCLUDING PDS</td>\n",
       "    </tr>\n",
       "    <tr>\n",
       "      <th>1147</th>\n",
       "      <td>77-800-810972-000</td>\n",
       "      <td>\"Cable Tie, 12\"\"L, Red\"</td>\n",
       "      <td>other</td>\n",
       "      <td>77-800-810972-</td>\n",
       "      <td>\"CABLE TIE, 12\"\"L, RED\"</td>\n",
       "    </tr>\n",
       "    <tr>\n",
       "      <th>613</th>\n",
       "      <td>77-606-0205610-00</td>\n",
       "      <td>Assy. Pre-Charging Electron Source with Shield...</td>\n",
       "      <td>pre-charge GUN</td>\n",
       "      <td>77-606-0205610</td>\n",
       "      <td>ASSY. PRE-CHARGING ELECTRON SOURCE WITH SHIELD...</td>\n",
       "    </tr>\n",
       "  </tbody>\n",
       "</table>\n",
       "<p>1148 rows × 5 columns</p>\n",
       "</div>"
      ],
      "text/plain": [
       "                PART_NO                                          PART_DESC  \\\n",
       "616   77-606-0211401-02  Assy. ACC Emitter High Numerical Aperture High...   \n",
       "617   77-606-0211401-03  Assy. ACC Emitter High Numerical Aperture High...   \n",
       "618   77-606-0211404-00  Assy. ACC Emitter High Numerical Aperture High...   \n",
       "619   77-606-0211404-02  Assy. ACC Emitter High Numerical Aperture High...   \n",
       "620   77-606-0211405-00                Assy. ACC Emitter, w/ Power Level 4   \n",
       "...                 ...                                                ...   \n",
       "300   77-594-X162561-00                            Krytox 16256 vacuum oil   \n",
       "301   77-601-0200607-00               eScan500 to eScan600 Upgrade Package   \n",
       "303   77-601-1701301-02              Assy. Power Conditioner including PDS   \n",
       "1147  77-800-810972-000                            \"Cable Tie, 12\"\"L, Red\"   \n",
       "613   77-606-0205610-00  Assy. Pre-Charging Electron Source with Shield...   \n",
       "\n",
       "              items_    PART_NO 12NC  \\\n",
       "616      ACC Emitter  77-606-0211401   \n",
       "617      ACC Emitter  77-606-0211401   \n",
       "618      ACC Emitter  77-606-0211404   \n",
       "619      ACC Emitter  77-606-0211404   \n",
       "620      ACC Emitter  77-606-0211405   \n",
       "...              ...             ...   \n",
       "300            other  77-594-X162561   \n",
       "301            other  77-601-0200607   \n",
       "303            other  77-601-1701301   \n",
       "1147           other  77-800-810972-   \n",
       "613   pre-charge GUN  77-606-0205610   \n",
       "\n",
       "                                           PART NO_DESC  \n",
       "616   ASSY. ACC EMITTER HIGH NUMERICAL APERTURE HIGH...  \n",
       "617   ASSY. ACC EMITTER HIGH NUMERICAL APERTURE HIGH...  \n",
       "618   ASSY. ACC EMITTER HIGH NUMERICAL APERTURE HIGH...  \n",
       "619   ASSY. ACC EMITTER HIGH NUMERICAL APERTURE HIGH...  \n",
       "620                 ASSY. ACC EMITTER, W/ POWER LEVEL 4  \n",
       "...                                                 ...  \n",
       "300                             KRYTOX 16256 VACUUM OIL  \n",
       "301                ESCAN500 TO ESCAN600 UPGRADE PACKAGE  \n",
       "303               ASSY. POWER CONDITIONER INCLUDING PDS  \n",
       "1147                            \"CABLE TIE, 12\"\"L, RED\"  \n",
       "613   ASSY. PRE-CHARGING ELECTRON SOURCE WITH SHIELD...  \n",
       "\n",
       "[1148 rows x 5 columns]"
      ]
     },
     "execution_count": 14,
     "metadata": {},
     "output_type": "execute_result"
    }
   ],
   "source": [
    "import pandas as pd\n",
    "import numpy as np\n",
    "from keras.wrappers.scikit_learn import KerasClassifier\n",
    "from keras.utils import np_utils\n",
    "from sklearn.model_selection import cross_val_score\n",
    "\n",
    "from sklearn.model_selection import KFold\n",
    "from sklearn.preprocessing import LabelEncoder\n",
    "from sklearn.pipeline import Pipeline\n",
    "\n",
    "from sklearn.feature_extraction.text import CountVectorizer\n",
    "\n",
    "df=pd.read_csv('C:\\\\temp\\\\2020_July_items_master.csv')\n",
    "\n",
    "Part_Desc='PART_DESC'\n",
    "\n",
    "df['PART NO_DESC']=df[Part_Desc].str.strip()\n",
    "df['PART NO_DESC']=df[Part_Desc].str.replace('-',\",\", regex=True)\n",
    "df['PART NO_DESC']=df[Part_Desc].str.upper()\n",
    "\n",
    "df.rename(columns={'Items_': 'items_'},inplace=True)\n",
    "df.sort_values('items_')"
   ]
  },
  {
   "cell_type": "code",
   "execution_count": 4,
   "metadata": {},
   "outputs": [],
   "source": [
    "from sklearn.model_selection import train_test_split\n",
    "desc=df['PART NO_DESC'].values\n",
    "item=df['items_'].values\n",
    "Xd_train, Xd_test, y_train, y_test= train_test_split(desc, item, test_size=0.3)\n"
   ]
  },
  {
   "cell_type": "code",
   "execution_count": 5,
   "metadata": {},
   "outputs": [
    {
     "data": {
      "text/plain": [
       "<803x1486 sparse matrix of type '<class 'numpy.int64'>'\n",
       "\twith 5419 stored elements in Compressed Sparse Row format>"
      ]
     },
     "execution_count": 5,
     "metadata": {},
     "output_type": "execute_result"
    }
   ],
   "source": [
    "vectorizer=CountVectorizer(min_df=0.0001,   strip_accents='unicode',)\n",
    "X_train=vectorizer.fit_transform(Xd_train)\n",
    "X_test=vectorizer.transform(Xd_test)\n",
    "X_train"
   ]
  },
  {
   "cell_type": "markdown",
   "metadata": {},
   "source": [
    "# Base model"
   ]
  },
  {
   "cell_type": "code",
   "execution_count": 6,
   "metadata": {},
   "outputs": [
    {
     "name": "stderr",
     "output_type": "stream",
     "text": [
      "C:\\Users\\suchung\\AppData\\Local\\Continuum\\anaconda3\\lib\\site-packages\\sklearn\\linear_model\\logistic.py:432: FutureWarning: Default solver will be changed to 'lbfgs' in 0.22. Specify a solver to silence this warning.\n",
      "  FutureWarning)\n",
      "C:\\Users\\suchung\\AppData\\Local\\Continuum\\anaconda3\\lib\\site-packages\\sklearn\\linear_model\\logistic.py:469: FutureWarning: Default multi_class will be changed to 'auto' in 0.22. Specify the multi_class option to silence this warning.\n",
      "  \"this warning.\", FutureWarning)\n"
     ]
    },
    {
     "data": {
      "text/plain": [
       "0.927536231884058"
      ]
     },
     "execution_count": 6,
     "metadata": {},
     "output_type": "execute_result"
    }
   ],
   "source": [
    "from sklearn.linear_model import LogisticRegression\n",
    "\n",
    "classifier = LogisticRegression()\n",
    "classifier.fit(X_train, y_train)\n",
    "score = classifier.score(X_test, y_test)\n",
    "score"
   ]
  },
  {
   "cell_type": "code",
   "execution_count": 7,
   "metadata": {},
   "outputs": [
    {
     "name": "stderr",
     "output_type": "stream",
     "text": [
      "C:\\Users\\suchung\\AppData\\Local\\Continuum\\anaconda3\\lib\\site-packages\\sklearn\\ensemble\\forest.py:245: FutureWarning: The default value of n_estimators will change from 10 in version 0.20 to 100 in 0.22.\n",
      "  \"10 in version 0.20 to 100 in 0.22.\", FutureWarning)\n"
     ]
    },
    {
     "name": "stdout",
     "output_type": "stream",
     "text": [
      "0.9391304347826087\n"
     ]
    }
   ],
   "source": [
    "from sklearn.ensemble import RandomForestClassifier\n",
    "clf = RandomForestClassifier(n_jobs=2, random_state=0)\n",
    "clf.fit(X_train, y_train)\n",
    "score=clf.score(X_test, y_test)\n",
    "print (score)"
   ]
  },
  {
   "cell_type": "code",
   "execution_count": 8,
   "metadata": {},
   "outputs": [
    {
     "name": "stdout",
     "output_type": "stream",
     "text": [
      "0.9507246376811594\n"
     ]
    }
   ],
   "source": [
    "from sklearn.svm import SVC\n",
    "this_C=1\n",
    "this_gamma=0.01\n",
    "clf2=SVC(kernel='linear',C=this_C, gamma=this_gamma).fit(X_train, y_train)\n",
    "score=clf2.score(X_test, y_test)\n",
    "\n",
    "print (score)\n",
    "\n",
    "# print (y_test)\n",
    "predict=clf2.predict(X_test)\n",
    "\n",
    "t_result=pd.DataFrame({'y_test':y_test, 'predict':predict})\n",
    "t_result.to_csv('c:\\\\temp\\\\t_result2.csv')"
   ]
  },
  {
   "cell_type": "markdown",
   "metadata": {},
   "source": [
    "# from sklearn.tree import DecisionTreeClassifier\n",
    "import pydotplus\n",
    "clf=DecisionTreeClassifier()\n",
    "clf.fit(X_train, y_train)\n",
    "score=clf.score(X_test, y_test)\n",
    "print (score)\n"
   ]
  },
  {
   "cell_type": "markdown",
   "metadata": {},
   "source": [
    "# predict all data to trace back the in accuracy"
   ]
  },
  {
   "cell_type": "code",
   "execution_count": 9,
   "metadata": {},
   "outputs": [
    {
     "name": "stdout",
     "output_type": "stream",
     "text": [
      "0.9834494773519163\n"
     ]
    }
   ],
   "source": [
    "Xd_all=desc\n",
    "y_all=item\n",
    "X_all=vectorizer.transform(Xd_all)\n",
    "score=clf2.score(X_all, y_all)\n",
    "print (score)\n",
    "predict=clf2.predict(X_all)\n",
    "df['predict']=predict\n",
    "df.to_csv('c:\\\\temp\\\\all_result.csv')\n"
   ]
  },
  {
   "cell_type": "markdown",
   "metadata": {},
   "source": [
    "## Apply to New Dataset"
   ]
  },
  {
   "cell_type": "code",
   "execution_count": 10,
   "metadata": {},
   "outputs": [
    {
     "name": "stdout",
     "output_type": "stream",
     "text": [
      "Index(['Source Table', 'MACHINE_REGION', 'REF_NO', 'CUSTOMER', 'MACHINE_NO',\n",
      "       'PARTS_REQUEST_REASON_CODE', 'APPLY_DATE', 'NEED_BY', 'SO_NO',\n",
      "       'SO_LINE', 'PART_NO', 'PART_DESC', 'NEED_TO_BE_RETURNED', 'SHIPPED_QTY',\n",
      "       'SHIPPING_ORG', 'SUBINVENTORY', 'DELIVERY_NUM', 'ACTUAL_SHIPPED_DATE',\n",
      "       'APPROVED_DATE_2NDLINE', 'PRIORITY', 'FILLER', 'APPLICANT',\n",
      "       'PARTS_REQUEST_STATUS', 'INV_AVAILABLE_DATE', 'INSTALLED_DATE',\n",
      "       'NON_INSTALLED_REASON', 'NON_INSTALLED_RETURN', 'NON_INSTALL_DAYS',\n",
      "       'INSTALLATION_STATUS', 'RMA_NO', 'RETURN_DATE', 'FORM_STATUS',\n",
      "       'RETURNED_QTY', 'HMI_SN', 'Items_'],\n",
      "      dtype='object')\n"
     ]
    },
    {
     "data": {
      "text/plain": [
       "292"
      ]
     },
     "execution_count": 10,
     "metadata": {},
     "output_type": "execute_result"
    }
   ],
   "source": [
    "dft=pd.read_csv('c:\\\\temp\\\\blah-testq4.csv')\n",
    "dft\n",
    "\n",
    "print (dft.columns)\n",
    "len(dft['PART_DESC'])\n",
    "\n",
    "###########**** make sure no empty end-row  *****########## "
   ]
  },
  {
   "cell_type": "code",
   "execution_count": 9,
   "metadata": {},
   "outputs": [
    {
     "ename": "NameError",
     "evalue": "name 'dft' is not defined",
     "output_type": "error",
     "traceback": [
      "\u001b[1;31m---------------------------------------------------------------------------\u001b[0m",
      "\u001b[1;31mNameError\u001b[0m                                 Traceback (most recent call last)",
      "\u001b[1;32m<ipython-input-9-dab9ef35c305>\u001b[0m in \u001b[0;36m<module>\u001b[1;34m\u001b[0m\n\u001b[0;32m      1\u001b[0m \u001b[0mPart_Desc\u001b[0m\u001b[1;33m=\u001b[0m\u001b[1;34m'PART_DESC'\u001b[0m\u001b[1;33m\u001b[0m\u001b[1;33m\u001b[0m\u001b[0m\n\u001b[1;32m----> 2\u001b[1;33m \u001b[0mdft\u001b[0m\u001b[1;33m[\u001b[0m\u001b[1;34m'PART NO_DESC'\u001b[0m\u001b[1;33m]\u001b[0m\u001b[1;33m=\u001b[0m\u001b[0mdft\u001b[0m\u001b[1;33m[\u001b[0m\u001b[0mPart_Desc\u001b[0m\u001b[1;33m]\u001b[0m\u001b[1;33m.\u001b[0m\u001b[0mstr\u001b[0m\u001b[1;33m.\u001b[0m\u001b[0mstrip\u001b[0m\u001b[1;33m(\u001b[0m\u001b[1;33m)\u001b[0m\u001b[1;33m\u001b[0m\u001b[1;33m\u001b[0m\u001b[0m\n\u001b[0m\u001b[0;32m      3\u001b[0m \u001b[0mdft\u001b[0m\u001b[1;33m[\u001b[0m\u001b[1;34m'PART NO_DESC'\u001b[0m\u001b[1;33m]\u001b[0m\u001b[1;33m=\u001b[0m\u001b[0mdft\u001b[0m\u001b[1;33m[\u001b[0m\u001b[0mPart_Desc\u001b[0m\u001b[1;33m]\u001b[0m\u001b[1;33m.\u001b[0m\u001b[0mstr\u001b[0m\u001b[1;33m.\u001b[0m\u001b[0mreplace\u001b[0m\u001b[1;33m(\u001b[0m\u001b[1;34m'-'\u001b[0m\u001b[1;33m,\u001b[0m\u001b[1;34m\",\"\u001b[0m\u001b[1;33m,\u001b[0m \u001b[0mregex\u001b[0m\u001b[1;33m=\u001b[0m\u001b[1;32mTrue\u001b[0m\u001b[1;33m)\u001b[0m\u001b[1;33m\u001b[0m\u001b[1;33m\u001b[0m\u001b[0m\n\u001b[0;32m      4\u001b[0m \u001b[0mdft\u001b[0m\u001b[1;33m[\u001b[0m\u001b[1;34m'PART NO_DESC'\u001b[0m\u001b[1;33m]\u001b[0m\u001b[1;33m=\u001b[0m\u001b[0mdft\u001b[0m\u001b[1;33m[\u001b[0m\u001b[0mPart_Desc\u001b[0m\u001b[1;33m]\u001b[0m\u001b[1;33m.\u001b[0m\u001b[0mstr\u001b[0m\u001b[1;33m.\u001b[0m\u001b[0mupper\u001b[0m\u001b[1;33m(\u001b[0m\u001b[1;33m)\u001b[0m\u001b[1;33m\u001b[0m\u001b[1;33m\u001b[0m\u001b[0m\n\u001b[0;32m      5\u001b[0m \u001b[1;33m\u001b[0m\u001b[0m\n",
      "\u001b[1;31mNameError\u001b[0m: name 'dft' is not defined"
     ]
    }
   ],
   "source": [
    "Part_Desc='PART_DESC'\n",
    "dft['PART NO_DESC']=dft[Part_Desc].str.strip()\n",
    "dft['PART NO_DESC']=dft[Part_Desc].str.replace('-',\",\", regex=True)\n",
    "dft['PART NO_DESC']=dft[Part_Desc].str.upper()\n",
    "\n",
    "\n",
    "desc2=dft['PART NO_DESC'].values\n",
    "\n",
    "X_N=vectorizer.transform(desc2)\n",
    "predict2=clf2.predict(X_N)\n",
    "predict2\n",
    "dft['predict2']=predict2\n",
    "dft.to_csv('c:\\\\temp\\\\predict.csv')\n"
   ]
  },
  {
   "cell_type": "code",
   "execution_count": 17,
   "metadata": {},
   "outputs": [
    {
     "data": {
      "text/plain": [
       "'C:\\\\Users\\\\suchung'"
      ]
     },
     "execution_count": 17,
     "metadata": {},
     "output_type": "execute_result"
    }
   ],
   "source": [
    "import os\n",
    "cwd=os.getcwd()\n",
    "cwd"
   ]
  },
  {
   "cell_type": "code",
   "execution_count": null,
   "metadata": {},
   "outputs": [],
   "source": []
  },
  {
   "cell_type": "code",
   "execution_count": null,
   "metadata": {},
   "outputs": [],
   "source": []
  },
  {
   "cell_type": "code",
   "execution_count": null,
   "metadata": {},
   "outputs": [],
   "source": []
  },
  {
   "cell_type": "code",
   "execution_count": null,
   "metadata": {},
   "outputs": [],
   "source": []
  },
  {
   "cell_type": "code",
   "execution_count": null,
   "metadata": {},
   "outputs": [],
   "source": [
    "\n",
    "\n",
    "\n",
    "\n"
   ]
  }
 ],
 "metadata": {
  "kernelspec": {
   "display_name": "Python 3",
   "language": "python",
   "name": "python3"
  },
  "language_info": {
   "codemirror_mode": {
    "name": "ipython",
    "version": 3
   },
   "file_extension": ".py",
   "mimetype": "text/x-python",
   "name": "python",
   "nbconvert_exporter": "python",
   "pygments_lexer": "ipython3",
   "version": "3.7.3"
  }
 },
 "nbformat": 4,
 "nbformat_minor": 2
}
